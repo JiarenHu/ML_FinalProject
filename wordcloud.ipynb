{
 "cells": [
  {
   "cell_type": "code",
   "execution_count": 1,
   "metadata": {
    "collapsed": true
   },
   "outputs": [],
   "source": [
    "# deal with data\n",
    "import pandas as pd\n",
    "# deal with Nature Language Processing\n",
    "from sklearn.feature_extraction.text import CountVectorizer"
   ]
  },
  {
   "cell_type": "code",
   "execution_count": 2,
   "metadata": {
    "collapsed": true
   },
   "outputs": [],
   "source": [
    "#read data\n",
    "data_newsAndPriceLabel = pd.read_csv(\"data/Combined_News_DJIA.csv\")"
   ]
  },
  {
   "cell_type": "code",
   "execution_count": 3,
   "metadata": {
    "collapsed": true
   },
   "outputs": [],
   "source": [
    "# combine every day's 25 top headlines into one\n",
    "data_newsAndPriceLabel[\"Combined Doc\"] = data_newsAndPriceLabel.iloc[:,2:27].apply(lambda row: \" \".join(str(x) for x in row), axis=1)"
   ]
  },
  {
   "cell_type": "code",
   "execution_count": 4,
   "metadata": {
    "collapsed": true
   },
   "outputs": [],
   "source": [
    "# seperate the dataset into trainset 2008-08-08~2014-08-06 and testset 2014-08-07~2016-07-01\n",
    "trainset = data_newsAndPriceLabel[data_newsAndPriceLabel[\"Date\"]<\"2014-08-07\"]\n",
    "testset = data_newsAndPriceLabel[data_newsAndPriceLabel[\"Date\"]>=\"2014-08-07\"]"
   ]
  },
  {
   "cell_type": "code",
   "execution_count": 17,
   "metadata": {
    "collapsed": true
   },
   "outputs": [],
   "source": [
    "# seperate trainset according to increase/decrease\n",
    "increase_trainset = trainset[trainset[\"Label\"]==1]\n",
    "decrease_trainset = trainset[trainset[\"Label\"]==0]"
   ]
  },
  {
   "cell_type": "code",
   "execution_count": 21,
   "metadata": {
    "collapsed": false
   },
   "outputs": [],
   "source": [
    "# draw the word cloud in increase days\n",
    "from wordcloud import WordCloud\n",
    "import matplotlib.pyplot as plt\n",
    "wordcloud1 = WordCloud(background_color='black',\n",
    "                      width=3000,\n",
    "                      height=2500\n",
    "                     ).generate(increase_trainset.iloc[0, 27])\n",
    "\n",
    "plt.figure(1,figsize=(8,8))\n",
    "plt.imshow(wordcloud1)\n",
    "plt.axis('off')\n",
    "plt.show()"
   ]
  },
  {
   "cell_type": "code",
   "execution_count": 25,
   "metadata": {
    "collapsed": true
   },
   "outputs": [],
   "source": [
    "# draw the word cloud in decrease days\n",
    "wordcloud2 = WordCloud(background_color='white',\n",
    "                      width=3000,\n",
    "                      height=2500\n",
    "                     ).generate(decrease_trainset.iloc[0, 27])\n",
    "\n",
    "plt.figure(1,figsize=(8,8))\n",
    "plt.imshow(wordcloud2)\n",
    "plt.axis('off')\n",
    "plt.show()"
   ]
  },
  {
   "cell_type": "code",
   "execution_count": null,
   "metadata": {
    "collapsed": true
   },
   "outputs": [],
   "source": []
  }
 ],
 "metadata": {
  "kernelspec": {
   "display_name": "Python [Root]",
   "language": "python",
   "name": "Python [Root]"
  },
  "language_info": {
   "codemirror_mode": {
    "name": "ipython",
    "version": 2
   },
   "file_extension": ".py",
   "mimetype": "text/x-python",
   "name": "python",
   "nbconvert_exporter": "python",
   "pygments_lexer": "ipython2",
   "version": "2.7.12"
  }
 },
 "nbformat": 4,
 "nbformat_minor": 0
}
