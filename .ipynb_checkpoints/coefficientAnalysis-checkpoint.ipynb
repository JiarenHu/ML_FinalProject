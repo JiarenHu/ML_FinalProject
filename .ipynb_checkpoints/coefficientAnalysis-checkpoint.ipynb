{
 "cells": [
  {
   "cell_type": "code",
   "execution_count": 1,
   "metadata": {
    "collapsed": true
   },
   "outputs": [],
   "source": [
    "# deal with data\n",
    "import pandas as pd\n",
    "# deal with Nature Language Processing\n",
    "from sklearn.feature_extraction.text import CountVectorizer"
   ]
  },
  {
   "cell_type": "code",
   "execution_count": 2,
   "metadata": {
    "collapsed": true
   },
   "outputs": [],
   "source": [
    "#read data\n",
    "data_newsAndPriceLabel = pd.read_csv(\"data/Combined_News_DJIA.csv\")"
   ]
  },
  {
   "cell_type": "code",
   "execution_count": 3,
   "metadata": {
    "collapsed": true
   },
   "outputs": [],
   "source": [
    "# combine every day's 25 top headlines into one\n",
    "data_newsAndPriceLabel[\"Combined Doc\"] = data_newsAndPriceLabel.iloc[:,2:27].apply(lambda row: \" \".join(str(x) for x in row), axis=1)"
   ]
  },
  {
   "cell_type": "code",
   "execution_count": 4,
   "metadata": {
    "collapsed": true
   },
   "outputs": [],
   "source": [
    "# seperate the dataset into trainset 2008-08-08~2014-08-06 and testset 2014-08-07~2016-07-01\n",
    "trainset = data_newsAndPriceLabel[data_newsAndPriceLabel[\"Date\"]<\"2014-08-07\"]\n",
    "testset = data_newsAndPriceLabel[data_newsAndPriceLabel[\"Date\"]>=\"2014-08-07\"]"
   ]
  },
  {
   "cell_type": "code",
   "execution_count": 5,
   "metadata": {
    "collapsed": true
   },
   "outputs": [],
   "source": [
    "# convert a collection of text documents to a matrix of token counts\n",
    "obj_CountVectorizer = CountVectorizer()\n",
    "trainset_tokenCounts = obj_CountVectorizer.fit_transform(trainset[\"Combined Doc\"])\n",
    "testset_tokenCounts = obj_CountVectorizer.transform(testset[\"Combined Doc\"])"
   ]
  },
  {
   "cell_type": "code",
   "execution_count": 6,
   "metadata": {
    "collapsed": true
   },
   "outputs": [],
   "source": [
    "# train a model\n",
    "# Logistic Regression\n",
    "from sklearn.linear_model import LogisticRegression\n",
    "obj_LogisticRegression = LogisticRegression()\n",
    "obj_LogisticRegression = obj_LogisticRegression.fit(trainset_tokenCounts, trainset[\"Label\"])"
   ]
  },
  {
   "cell_type": "code",
   "execution_count": 7,
   "metadata": {
    "collapsed": true
   },
   "outputs": [],
   "source": [
    "# use the model to predict the increase/decrease of stock\n",
    "predictions = obj_LogisticRegression.predict(testset_tokenCounts)"
   ]
  },
  {
   "cell_type": "markdown",
   "metadata": {},
   "source": [
    "# word coefficient"
   ]
  },
  {
   "cell_type": "code",
   "execution_count": 8,
   "metadata": {
    "collapsed": true
   },
   "outputs": [],
   "source": [
    "wordset = obj_CountVectorizer.get_feature_names()\n",
    "wordcoef = obj_LogisticRegression.coef_.tolist()[0]\n",
    "word_cof = pd.DataFrame({'Word' : wordset, 'Coefficient' : wordcoef})\n",
    "word_cof = word_cof.sort_values(['Coefficient', 'Word'], ascending=[0, 1])"
   ]
  },
  {
   "cell_type": "code",
   "execution_count": 10,
   "metadata": {
    "collapsed": false
   },
   "outputs": [
    {
     "name": "stdout",
     "output_type": "stream",
     "text": [
      "       Coefficient       Word\n",
      "24572     0.478924       self\n",
      "25610     0.422006         so\n",
      "27522     0.416990  territory\n",
      "28486     0.406313       turn\n",
      "15404     0.405514      kills\n",
      "19576     0.400451   olympics\n",
      "15552     0.396420      korea\n",
      "23589     0.390109       rise\n",
      "18871     0.387079    nigeria\n",
      "27713     0.385415      three\n",
      "       Coefficient       Word\n",
      "3539     -0.417944      begin\n",
      "18286    -0.420886         my\n",
      "24740    -0.427167        sex\n",
      "8263     -0.430474        did\n",
      "12469    -0.431359    hacking\n",
      "28010    -0.439274      total\n",
      "13417    -0.460550      hours\n",
      "27523    -0.465137     terror\n",
      "24081    -0.485382  sanctions\n",
      "23873    -0.582534        run\n"
     ]
    }
   ],
   "source": [
    "print(word_cof.head(10))\n",
    "print(word_cof.tail(10))"
   ]
  },
  {
   "cell_type": "code",
   "execution_count": null,
   "metadata": {
    "collapsed": true
   },
   "outputs": [],
   "source": []
  }
 ],
 "metadata": {
  "kernelspec": {
   "display_name": "Python [Root]",
   "language": "python",
   "name": "Python [Root]"
  },
  "language_info": {
   "codemirror_mode": {
    "name": "ipython",
    "version": 2
   },
   "file_extension": ".py",
   "mimetype": "text/x-python",
   "name": "python",
   "nbconvert_exporter": "python",
   "pygments_lexer": "ipython2",
   "version": "2.7.12"
  }
 },
 "nbformat": 4,
 "nbformat_minor": 0
}
